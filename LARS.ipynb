{
 "cells": [
  {
   "cell_type": "code",
   "execution_count": 1,
   "id": "1b962fe3",
   "metadata": {},
   "outputs": [
    {
     "name": "stdout",
     "output_type": "stream",
     "text": [
      "r2 Score of test set : 0.6815908068381824\n"
     ]
    }
   ],
   "source": [
    "from sklearn.datasets import load_boston\n",
    "from sklearn.linear_model import LassoLars\n",
    "from sklearn.metrics import r2_score\n",
    "from sklearn.model_selection import train_test_split\n",
    " \n",
    "# Loading dataset\n",
    "dataset = load_boston()\n",
    "X = dataset.data\n",
    "y = dataset.target\n",
    " \n",
    "# Splitting training and testing data\n",
    "X_train, X_test, y_train, y_test = train_test_split(X, y,\n",
    "                     test_size = 0.15, random_state = 42)\n",
    " \n",
    "# Creating and fitting the regressor\n",
    "regressor = LassoLars(alpha = 0.1)\n",
    "regressor.fit(X_train, y_train)\n",
    " \n",
    " \n",
    "# Evaluating model\n",
    "prediction = regressor.predict(X_test)\n",
    " \n",
    "print(f\"r2 Score of test set : {r2_score(y_test, prediction)}\")"
   ]
  }
 ],
 "metadata": {
  "kernelspec": {
   "display_name": "Python 3",
   "language": "python",
   "name": "python3"
  },
  "language_info": {
   "codemirror_mode": {
    "name": "ipython",
    "version": 3
   },
   "file_extension": ".py",
   "mimetype": "text/x-python",
   "name": "python",
   "nbconvert_exporter": "python",
   "pygments_lexer": "ipython3",
   "version": "3.8.8"
  }
 },
 "nbformat": 4,
 "nbformat_minor": 5
}
